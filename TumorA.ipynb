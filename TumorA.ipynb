{
 "cells": [
  {
   "cell_type": "markdown",
   "metadata": {},
   "source": [
    "# importing the Library"
   ]
  },
  {
   "cell_type": "code",
   "execution_count": 1,
   "metadata": {},
   "outputs": [],
   "source": [
    "import numpy as np\n",
    "import pandas as pd\n",
    "import seaborn as sns\n",
    "import matplotlib.pyplot as plt\n",
    "%matplotlib inline"
   ]
  },
  {
   "cell_type": "markdown",
   "metadata": {},
   "source": [
    "# importing the data"
   ]
  },
  {
   "cell_type": "code",
   "execution_count": 2,
   "metadata": {},
   "outputs": [
    {
     "data": {
      "text/html": [
       "<div>\n",
       "<style scoped>\n",
       "    .dataframe tbody tr th:only-of-type {\n",
       "        vertical-align: middle;\n",
       "    }\n",
       "\n",
       "    .dataframe tbody tr th {\n",
       "        vertical-align: top;\n",
       "    }\n",
       "\n",
       "    .dataframe thead th {\n",
       "        text-align: right;\n",
       "    }\n",
       "</style>\n",
       "<table border=\"1\" class=\"dataframe\">\n",
       "  <thead>\n",
       "    <tr style=\"text-align: right;\">\n",
       "      <th></th>\n",
       "      <th>class</th>\n",
       "      <th>age</th>\n",
       "      <th>sex</th>\n",
       "      <th>histologic</th>\n",
       "      <th>degree-of-diff</th>\n",
       "      <th>bone</th>\n",
       "      <th>bone-marrow</th>\n",
       "      <th>lung</th>\n",
       "      <th>plueral</th>\n",
       "      <th>peritoneum</th>\n",
       "      <th>liver</th>\n",
       "      <th>brain</th>\n",
       "      <th>skin</th>\n",
       "      <th>neck</th>\n",
       "      <th>supraclavicular</th>\n",
       "      <th>axillar</th>\n",
       "      <th>mediastinum</th>\n",
       "      <th>abdominal</th>\n",
       "    </tr>\n",
       "  </thead>\n",
       "  <tbody>\n",
       "    <tr>\n",
       "      <th>0</th>\n",
       "      <td>1</td>\n",
       "      <td>1</td>\n",
       "      <td>1</td>\n",
       "      <td>?</td>\n",
       "      <td>3</td>\n",
       "      <td>2</td>\n",
       "      <td>2</td>\n",
       "      <td>1</td>\n",
       "      <td>2</td>\n",
       "      <td>2</td>\n",
       "      <td>2</td>\n",
       "      <td>2</td>\n",
       "      <td>2</td>\n",
       "      <td>2</td>\n",
       "      <td>2</td>\n",
       "      <td>2</td>\n",
       "      <td>2</td>\n",
       "      <td>2</td>\n",
       "    </tr>\n",
       "    <tr>\n",
       "      <th>1</th>\n",
       "      <td>1</td>\n",
       "      <td>1</td>\n",
       "      <td>1</td>\n",
       "      <td>?</td>\n",
       "      <td>3</td>\n",
       "      <td>2</td>\n",
       "      <td>2</td>\n",
       "      <td>2</td>\n",
       "      <td>2</td>\n",
       "      <td>2</td>\n",
       "      <td>1</td>\n",
       "      <td>2</td>\n",
       "      <td>2</td>\n",
       "      <td>2</td>\n",
       "      <td>1</td>\n",
       "      <td>2</td>\n",
       "      <td>1</td>\n",
       "      <td>2</td>\n",
       "    </tr>\n",
       "    <tr>\n",
       "      <th>2</th>\n",
       "      <td>1</td>\n",
       "      <td>1</td>\n",
       "      <td>2</td>\n",
       "      <td>2</td>\n",
       "      <td>3</td>\n",
       "      <td>1</td>\n",
       "      <td>2</td>\n",
       "      <td>2</td>\n",
       "      <td>2</td>\n",
       "      <td>2</td>\n",
       "      <td>2</td>\n",
       "      <td>2</td>\n",
       "      <td>2</td>\n",
       "      <td>2</td>\n",
       "      <td>2</td>\n",
       "      <td>2</td>\n",
       "      <td>1</td>\n",
       "      <td>2</td>\n",
       "    </tr>\n",
       "    <tr>\n",
       "      <th>3</th>\n",
       "      <td>1</td>\n",
       "      <td>1</td>\n",
       "      <td>2</td>\n",
       "      <td>?</td>\n",
       "      <td>3</td>\n",
       "      <td>1</td>\n",
       "      <td>2</td>\n",
       "      <td>1</td>\n",
       "      <td>1</td>\n",
       "      <td>2</td>\n",
       "      <td>2</td>\n",
       "      <td>2</td>\n",
       "      <td>2</td>\n",
       "      <td>2</td>\n",
       "      <td>2</td>\n",
       "      <td>2</td>\n",
       "      <td>1</td>\n",
       "      <td>2</td>\n",
       "    </tr>\n",
       "    <tr>\n",
       "      <th>4</th>\n",
       "      <td>1</td>\n",
       "      <td>1</td>\n",
       "      <td>2</td>\n",
       "      <td>?</td>\n",
       "      <td>3</td>\n",
       "      <td>1</td>\n",
       "      <td>2</td>\n",
       "      <td>1</td>\n",
       "      <td>1</td>\n",
       "      <td>2</td>\n",
       "      <td>2</td>\n",
       "      <td>2</td>\n",
       "      <td>2</td>\n",
       "      <td>2</td>\n",
       "      <td>2</td>\n",
       "      <td>2</td>\n",
       "      <td>1</td>\n",
       "      <td>2</td>\n",
       "    </tr>\n",
       "  </tbody>\n",
       "</table>\n",
       "</div>"
      ],
      "text/plain": [
       "   class  age sex histologic degree-of-diff  bone  bone-marrow  lung  plueral  \\\n",
       "0      1    1   1          ?              3     2            2     1        2   \n",
       "1      1    1   1          ?              3     2            2     2        2   \n",
       "2      1    1   2          2              3     1            2     2        2   \n",
       "3      1    1   2          ?              3     1            2     1        1   \n",
       "4      1    1   2          ?              3     1            2     1        1   \n",
       "\n",
       "   peritoneum  liver  brain skin  neck  supraclavicular axillar  mediastinum  \\\n",
       "0           2      2      2    2     2                2       2            2   \n",
       "1           2      1      2    2     2                1       2            1   \n",
       "2           2      2      2    2     2                2       2            1   \n",
       "3           2      2      2    2     2                2       2            1   \n",
       "4           2      2      2    2     2                2       2            1   \n",
       "\n",
       "   abdominal  \n",
       "0          2  \n",
       "1          2  \n",
       "2          2  \n",
       "3          2  \n",
       "4          2  "
      ]
     },
     "execution_count": 2,
     "metadata": {},
     "output_type": "execute_result"
    }
   ],
   "source": [
    "#import ing the data\n",
    "data_frame = pd.read_csv(\"Tumor.csv\", names = ['class','age','sex',\\\n",
    "                                                               'histologic','degree-of-diff','bone',\\\n",
    "                                                               'bone-marrow','lung','plueral','peritoneum',\\\n",
    "                                                               'liver','brain','skin','neck','supraclavicular','axillar','mediastinum','abdominal'])\n",
    "\n",
    "data_frame.head()"
   ]
  },
  {
   "cell_type": "markdown",
   "metadata": {},
   "source": [
    "# droping unwanted"
   ]
  },
  {
   "cell_type": "code",
   "execution_count": 3,
   "metadata": {},
   "outputs": [],
   "source": [
    "data_frame = data_frame.drop(['degree-of-diff'], axis = 1)"
   ]
  },
  {
   "cell_type": "markdown",
   "metadata": {},
   "source": [
    "# Replacing '?'"
   ]
  },
  {
   "cell_type": "code",
   "execution_count": 4,
   "metadata": {},
   "outputs": [],
   "source": [
    "#Changing from string to integer\n",
    "mode = data_frame.mode()\n",
    "data_frame = data_frame.replace(\"?\", mode)"
   ]
  },
  {
   "cell_type": "markdown",
   "metadata": {},
   "source": [
    "# TypeCasting"
   ]
  },
  {
   "cell_type": "code",
   "execution_count": 5,
   "metadata": {},
   "outputs": [],
   "source": [
    "for column in data_frame:\n",
    "    if type(column)  == str:\n",
    "        data_frame[column] = data_frame[column].astype(int)\n",
    "    else:\n",
    "        data_frame[column] = data_frame[column]"
   ]
  },
  {
   "cell_type": "markdown",
   "metadata": {},
   "source": [
    "# Corr HeatMap"
   ]
  },
  {
   "cell_type": "code",
   "execution_count": 6,
   "metadata": {},
   "outputs": [
    {
     "data": {
      "text/plain": [
       "<matplotlib.axes._subplots.AxesSubplot at 0x7f5f34212ba8>"
      ]
     },
     "execution_count": 6,
     "metadata": {},
     "output_type": "execute_result"
    },
    {
     "data": {
      "image/png": "[encoded data removed]",
      "text/plain": [
       "<Figure size 432x288 with 2 Axes>"
      ]
     },
     "metadata": {
      "needs_background": "light"
     },
     "output_type": "display_data"
    }
   ],
   "source": [
    "sns.heatmap(data_frame.corr(method='pearson'), annot = True)"
   ]
  },
  {
   "cell_type": "markdown",
   "metadata": {},
   "source": [
    "# PairPlot of Data_Frame"
   ]
  },
  {
   "cell_type": "code",
   "execution_count": 7,
   "metadata": {},
   "outputs": [],
   "source": [
    "#sns.pairplot(data_frame, hue = 'class')"
   ]
  },
  {
   "cell_type": "code",
   "execution_count": 8,
   "metadata": {},
   "outputs": [
    {
     "data": {
      "text/html": [
       "<div>\n",
       "<style scoped>\n",
       "    .dataframe tbody tr th:only-of-type {\n",
       "        vertical-align: middle;\n",
       "    }\n",
       "\n",
       "    .dataframe tbody tr th {\n",
       "        vertical-align: top;\n",
       "    }\n",
       "\n",
       "    .dataframe thead th {\n",
       "        text-align: right;\n",
       "    }\n",
       "</style>\n",
       "<table border=\"1\" class=\"dataframe\">\n",
       "  <thead>\n",
       "    <tr style=\"text-align: right;\">\n",
       "      <th></th>\n",
       "      <th>class</th>\n",
       "      <th>age</th>\n",
       "      <th>sex</th>\n",
       "      <th>histologic</th>\n",
       "      <th>bone</th>\n",
       "      <th>bone-marrow</th>\n",
       "      <th>lung</th>\n",
       "      <th>plueral</th>\n",
       "      <th>peritoneum</th>\n",
       "      <th>liver</th>\n",
       "      <th>brain</th>\n",
       "      <th>skin</th>\n",
       "      <th>neck</th>\n",
       "      <th>supraclavicular</th>\n",
       "      <th>axillar</th>\n",
       "      <th>mediastinum</th>\n",
       "      <th>abdominal</th>\n",
       "    </tr>\n",
       "  </thead>\n",
       "  <tbody>\n",
       "    <tr>\n",
       "      <th>count</th>\n",
       "      <td>339.000000</td>\n",
       "      <td>339.000000</td>\n",
       "      <td>339.000000</td>\n",
       "      <td>339.000000</td>\n",
       "      <td>339.000000</td>\n",
       "      <td>339.000000</td>\n",
       "      <td>339.000000</td>\n",
       "      <td>339.000000</td>\n",
       "      <td>339.000000</td>\n",
       "      <td>339.000000</td>\n",
       "      <td>339.000000</td>\n",
       "      <td>339.000000</td>\n",
       "      <td>339.000000</td>\n",
       "      <td>339.000000</td>\n",
       "      <td>339.000000</td>\n",
       "      <td>339.000000</td>\n",
       "      <td>339.000000</td>\n",
       "    </tr>\n",
       "    <tr>\n",
       "      <th>mean</th>\n",
       "      <td>8.678466</td>\n",
       "      <td>2.247788</td>\n",
       "      <td>1.525074</td>\n",
       "      <td>1.893805</td>\n",
       "      <td>1.722714</td>\n",
       "      <td>1.979351</td>\n",
       "      <td>1.778761</td>\n",
       "      <td>1.778761</td>\n",
       "      <td>1.719764</td>\n",
       "      <td>1.678466</td>\n",
       "      <td>1.938053</td>\n",
       "      <td>1.941003</td>\n",
       "      <td>1.870206</td>\n",
       "      <td>1.820059</td>\n",
       "      <td>1.902655</td>\n",
       "      <td>1.728614</td>\n",
       "      <td>1.660767</td>\n",
       "    </tr>\n",
       "    <tr>\n",
       "      <th>std</th>\n",
       "      <td>7.052624</td>\n",
       "      <td>0.568362</td>\n",
       "      <td>0.500109</td>\n",
       "      <td>0.377539</td>\n",
       "      <td>0.448321</td>\n",
       "      <td>0.142416</td>\n",
       "      <td>0.415695</td>\n",
       "      <td>0.415695</td>\n",
       "      <td>0.449778</td>\n",
       "      <td>0.467756</td>\n",
       "      <td>0.241415</td>\n",
       "      <td>0.235967</td>\n",
       "      <td>0.336573</td>\n",
       "      <td>0.384706</td>\n",
       "      <td>0.296865</td>\n",
       "      <td>0.445332</td>\n",
       "      <td>0.474149</td>\n",
       "    </tr>\n",
       "    <tr>\n",
       "      <th>min</th>\n",
       "      <td>1.000000</td>\n",
       "      <td>1.000000</td>\n",
       "      <td>1.000000</td>\n",
       "      <td>1.000000</td>\n",
       "      <td>1.000000</td>\n",
       "      <td>1.000000</td>\n",
       "      <td>1.000000</td>\n",
       "      <td>1.000000</td>\n",
       "      <td>1.000000</td>\n",
       "      <td>1.000000</td>\n",
       "      <td>1.000000</td>\n",
       "      <td>1.000000</td>\n",
       "      <td>1.000000</td>\n",
       "      <td>1.000000</td>\n",
       "      <td>1.000000</td>\n",
       "      <td>1.000000</td>\n",
       "      <td>1.000000</td>\n",
       "    </tr>\n",
       "    <tr>\n",
       "      <th>25%</th>\n",
       "      <td>2.000000</td>\n",
       "      <td>2.000000</td>\n",
       "      <td>1.000000</td>\n",
       "      <td>2.000000</td>\n",
       "      <td>1.000000</td>\n",
       "      <td>2.000000</td>\n",
       "      <td>2.000000</td>\n",
       "      <td>2.000000</td>\n",
       "      <td>1.000000</td>\n",
       "      <td>1.000000</td>\n",
       "      <td>2.000000</td>\n",
       "      <td>2.000000</td>\n",
       "      <td>2.000000</td>\n",
       "      <td>2.000000</td>\n",
       "      <td>2.000000</td>\n",
       "      <td>1.000000</td>\n",
       "      <td>1.000000</td>\n",
       "    </tr>\n",
       "    <tr>\n",
       "      <th>50%</th>\n",
       "      <td>7.000000</td>\n",
       "      <td>2.000000</td>\n",
       "      <td>2.000000</td>\n",
       "      <td>2.000000</td>\n",
       "      <td>2.000000</td>\n",
       "      <td>2.000000</td>\n",
       "      <td>2.000000</td>\n",
       "      <td>2.000000</td>\n",
       "      <td>2.000000</td>\n",
       "      <td>2.000000</td>\n",
       "      <td>2.000000</td>\n",
       "      <td>2.000000</td>\n",
       "      <td>2.000000</td>\n",
       "      <td>2.000000</td>\n",
       "      <td>2.000000</td>\n",
       "      <td>2.000000</td>\n",
       "      <td>2.000000</td>\n",
       "    </tr>\n",
       "    <tr>\n",
       "      <th>75%</th>\n",
       "      <td>14.000000</td>\n",
       "      <td>3.000000</td>\n",
       "      <td>2.000000</td>\n",
       "      <td>2.000000</td>\n",
       "      <td>2.000000</td>\n",
       "      <td>2.000000</td>\n",
       "      <td>2.000000</td>\n",
       "      <td>2.000000</td>\n",
       "      <td>2.000000</td>\n",
       "      <td>2.000000</td>\n",
       "      <td>2.000000</td>\n",
       "      <td>2.000000</td>\n",
       "      <td>2.000000</td>\n",
       "      <td>2.000000</td>\n",
       "      <td>2.000000</td>\n",
       "      <td>2.000000</td>\n",
       "      <td>2.000000</td>\n",
       "    </tr>\n",
       "    <tr>\n",
       "      <th>max</th>\n",
       "      <td>22.000000</td>\n",
       "      <td>3.000000</td>\n",
       "      <td>2.000000</td>\n",
       "      <td>3.000000</td>\n",
       "      <td>2.000000</td>\n",
       "      <td>2.000000</td>\n",
       "      <td>2.000000</td>\n",
       "      <td>2.000000</td>\n",
       "      <td>2.000000</td>\n",
       "      <td>2.000000</td>\n",
       "      <td>2.000000</td>\n",
       "      <td>2.000000</td>\n",
       "      <td>2.000000</td>\n",
       "      <td>2.000000</td>\n",
       "      <td>2.000000</td>\n",
       "      <td>2.000000</td>\n",
       "      <td>2.000000</td>\n",
       "    </tr>\n",
       "  </tbody>\n",
       "</table>\n",
       "</div>"
      ],
      "text/plain": [
       "            class         age         sex  histologic        bone  \\\n",
       "count  339.000000  339.000000  339.000000  339.000000  339.000000   \n",
       "mean     8.678466    2.247788    1.525074    1.893805    1.722714   \n",
       "std      7.052624    0.568362    0.500109    0.377539    0.448321   \n",
       "min      1.000000    1.000000    1.000000    1.000000    1.000000   \n",
       "25%      2.000000    2.000000    1.000000    2.000000    1.000000   \n",
       "50%      7.000000    2.000000    2.000000    2.000000    2.000000   \n",
       "75%     14.000000    3.000000    2.000000    2.000000    2.000000   \n",
       "max     22.000000    3.000000    2.000000    3.000000    2.000000   \n",
       "\n",
       "       bone-marrow        lung     plueral  peritoneum       liver  \\\n",
       "count   339.000000  339.000000  339.000000  339.000000  339.000000   \n",
       "mean      1.979351    1.778761    1.778761    1.719764    1.678466   \n",
       "std       0.142416    0.415695    0.415695    0.449778    0.467756   \n",
       "min       1.000000    1.000000    1.000000    1.000000    1.000000   \n",
       "25%       2.000000    2.000000    2.000000    1.000000    1.000000   \n",
       "50%       2.000000    2.000000    2.000000    2.000000    2.000000   \n",
       "75%       2.000000    2.000000    2.000000    2.000000    2.000000   \n",
       "max       2.000000    2.000000    2.000000    2.000000    2.000000   \n",
       "\n",
       "            brain        skin        neck  supraclavicular     axillar  \\\n",
       "count  339.000000  339.000000  339.000000       339.000000  339.000000   \n",
       "mean     1.938053    1.941003    1.870206         1.820059    1.902655   \n",
       "std      0.241415    0.235967    0.336573         0.384706    0.296865   \n",
       "min      1.000000    1.000000    1.000000         1.000000    1.000000   \n",
       "25%      2.000000    2.000000    2.000000         2.000000    2.000000   \n",
       "50%      2.000000    2.000000    2.000000         2.000000    2.000000   \n",
       "75%      2.000000    2.000000    2.000000         2.000000    2.000000   \n",
       "max      2.000000    2.000000    2.000000         2.000000    2.000000   \n",
       "\n",
       "       mediastinum   abdominal  \n",
       "count   339.000000  339.000000  \n",
       "mean      1.728614    1.660767  \n",
       "std       0.445332    0.474149  \n",
       "min       1.000000    1.000000  \n",
       "25%       1.000000    1.000000  \n",
       "50%       2.000000    2.000000  \n",
       "75%       2.000000    2.000000  \n",
       "max       2.000000    2.000000  "
      ]
     },
     "execution_count": 8,
     "metadata": {},
     "output_type": "execute_result"
    }
   ],
   "source": [
    "#DESCRIBING THE DATA\n",
    "data_frame.describe()"
   ]
  },
  {
   "cell_type": "markdown",
   "metadata": {},
   "source": [
    "# Creating the Features and Labels"
   ]
  },
  {
   "cell_type": "code",
   "execution_count": 9,
   "metadata": {},
   "outputs": [],
   "source": [
    "#Creating the features and the labels\n",
    "X = data_frame.iloc[:, 0:].values\n",
    "y = data_frame.iloc[:, 0].values"
   ]
  },
  {
   "cell_type": "markdown",
   "metadata": {},
   "source": [
    "# TrainTestSplit"
   ]
  },
  {
   "cell_type": "code",
   "execution_count": 10,
   "metadata": {},
   "outputs": [],
   "source": [
    "#TRAINING NAD TESTING THE DATA\n",
    "from sklearn.model_selection import train_test_split\n",
    "X_train, X_test, y_train, y_test = train_test_split(X, y, test_size = 0.2)"
   ]
  },
  {
   "cell_type": "markdown",
   "metadata": {},
   "source": [
    "# Scaling"
   ]
  },
  {
   "cell_type": "code",
   "execution_count": 11,
   "metadata": {},
   "outputs": [
    {
     "name": "stderr",
     "output_type": "stream",
     "text": [
      "/home/sai/anaconda3/lib/python3.6/site-packages/sklearn/utils/validation.py:595: DataConversionWarning: Data with input dtype int64 was converted to float64 by StandardScaler.\n",
      "  warnings.warn(msg, DataConversionWarning)\n",
      "/home/sai/anaconda3/lib/python3.6/site-packages/sklearn/utils/validation.py:595: DataConversionWarning: Data with input dtype int64 was converted to float64 by StandardScaler.\n",
      "  warnings.warn(msg, DataConversionWarning)\n",
      "/home/sai/anaconda3/lib/python3.6/site-packages/sklearn/utils/validation.py:595: DataConversionWarning: Data with input dtype int64 was converted to float64 by StandardScaler.\n",
      "  warnings.warn(msg, DataConversionWarning)\n"
     ]
    }
   ],
   "source": [
    "#preprocessing the data \n",
    "from sklearn.preprocessing import StandardScaler\n",
    "sc = StandardScaler()\n",
    "X_train = sc.fit_transform(X_train)\n",
    "X_test = sc.transform(X_test)"
   ]
  },
  {
   "cell_type": "markdown",
   "metadata": {},
   "source": [
    "# Dimention Reduction"
   ]
  },
  {
   "cell_type": "code",
   "execution_count": 12,
   "metadata": {},
   "outputs": [],
   "source": [
    "\"\"\"from sklearn.decomposition import PCA\n",
    "pc = PCA(n_components = 1)\n",
    "X_train = pc.fit_transform(X_train)\n",
    "X_test = pc.transform(X_test)\n",
    "\"\"\"\n",
    "pass\n",
    "\n",
    "#WHEN I HAVE USED THIS DIMENTION REDUCTIONALITY THE DATA WAS LOSSING ITS CORRELATION BETWEEN THE COLOUMNS and it is\n",
    "#lossing it's accuracy in between the data and incerasing in the error"
   ]
  },
  {
   "cell_type": "markdown",
   "metadata": {},
   "source": [
    "# DecisionTree"
   ]
  },
  {
   "cell_type": "code",
   "execution_count": null,
   "metadata": {},
   "outputs": [],
   "source": [
    "from sklearn.tree import DecisionTreeClassifier\n",
    "from sklearn.metrics import accuracy_score\n",
    "Accu, Miss = [], []\n",
    "ith,TAccu = [], []\n",
    "Err, TErr = [], []\n",
    "n = int(input(\"enter the number of the Best max_Depth:->>\")) \n",
    "for i in range(1, n): #ITERATIONS OF THE DATA\n",
    "    ith.append(i)\n",
    "    classifier = DecisionTreeClassifier(max_depth = i)\n",
    "    classifier.fit(X_train,y_train) #FITTING THE DATA\n",
    "    y_pred = classifier.predict(X_test) #PREDICTING THE DATA\n",
    "    Miss.append((y_test != y_pred).sum()) #FINDING MISSCLASSIIFCATION OF THE DATA\n",
    "    Accu.append(accuracy_score(y_test,y_pred)) #APPENDING THE ACCURACY SCORE OF THE DATA\n",
    "    TAccu.append(accuracy_score(y_train, classifier.predict(X_train)))#Training accuracy of the data\n",
    "    error = 1 - (accuracy_score(y_test,y_pred)) #Erroe for the testing accuracy \n",
    "    Err.append(error) #Error\n",
    "    terror = 1 - accuracy_score(y_train, classifier.predict(X_train)) #ERROR for training accuracy\n",
    "    TErr.append(terror) #Training Error"
   ]
  },
  {
   "cell_type": "code",
   "execution_count": null,
   "metadata": {},
   "outputs": [],
   "source": [
    "ma = Accu.index(max(Accu)) #INDEX OF MAX ACCURACY VALUE\n",
    "mis = Miss[ma] #MISSCLASSIFICATION OF THE INDEX OF THE DATA"
   ]
  },
  {
   "cell_type": "code",
   "execution_count": null,
   "metadata": {},
   "outputs": [],
   "source": [
    "print(\"Max_depth of the index:-\", ma) #MAX DEPTH IN THE DECISION TREE OF THE DATA\n",
    "print(\"Missclassifiction of the data:-\",mis) #MISSCLASSIFICATION OF THE DATA\n",
    "print(\"Accuracy of data:-\", max(Accu))#BEST ACCURACY FOR THE DATA"
   ]
  },
  {
   "cell_type": "code",
   "execution_count": null,
   "metadata": {},
   "outputs": [],
   "source": [
    "print(\"============================Testing ACCURACIES=====================================================\")\n",
    "print(\"All accuracies of the data:-\", Accu)\n",
    "print(\"===========================MissClassification======================================================\")\n",
    "print(\"All Missclassifion of the data:-\", Miss)\n",
    "print(\"===========================Ith-Iteration===========================================================\")\n",
    "print(\"ith values :-\", ith)\n",
    "print(\"===========================Training Accuracy=======================================================\")\n",
    "print(\"Training Accuracy of the data:-\", TAccu)\n",
    "print(\"===========================Testing Error===========================================================\")\n",
    "print(\"Training Error of the data:-\", Err)\n",
    "print(\"===========================Training Error==========================================================\")\n",
    "print(\"Training Accuracy of the data:-\", TErr)"
   ]
  },
  {
   "cell_type": "code",
   "execution_count": null,
   "metadata": {},
   "outputs": [],
   "source": [
    "plt.plot(Accu, ith, c = 'r', lw = 3,label='Accuracy' )\n",
    "plt.plot(TAccu, ith, c = 'y',lw = 3, label = \"TrainAccuracy\")\n",
    "plt.title(\"RelationShip of ith Iteration and Accuracy\")\n",
    "plt.xlabel(\"Accuracy\")\n",
    "plt.ylabel(\"ithIteration\")\n",
    "plt.legend()\n",
    "plt.show()"
   ]
  },
  {
   "cell_type": "code",
   "execution_count": null,
   "metadata": {},
   "outputs": [],
   "source": [
    "plt.plot(Miss, ith, c = 'b',lw = 3,label = 'MissClassiification')\n",
    "plt.title(\"RelationShip of MissClassfication and ith\")\n",
    "plt.xlabel(\"Missclassification\")\n",
    "plt.ylabel(\"ithRotation\")\n",
    "plt.legend()\n",
    "plt.show()"
   ]
  },
  {
   "cell_type": "code",
   "execution_count": null,
   "metadata": {},
   "outputs": [],
   "source": [
    "plt.plot(TErr, ith, c = 'y',lw = 3, label = \"TrainError\", marker = \">\")\n",
    "plt.plot(Err, ith, c = 'b',lw = 3, label = \"TestError\", marker = \">\")\n",
    "plt.title(\"RelationShip of Error and ith\")\n",
    "plt.xlabel(\"Error\")\n",
    "plt.ylabel(\"ithRotation\")\n",
    "plt.legend()\n",
    "plt.show()"
   ]
  },
  {
   "cell_type": "code",
   "execution_count": null,
   "metadata": {},
   "outputs": [],
   "source": [
    "pass\n",
    "\n",
    "\"\"\"\n",
    "MaxDepth:--->>> when i'm max depth that the accuracy was decreasing \n",
    "Maxdepth = 3 #ACCU = 25\n",
    "MAXdepth = 2 #Accuracy = 23\n",
    "MaxDepth = 1 #Accuracy =  23\n",
    "MaxDepth = None #Accuracy = 53\n",
    "\n",
    "This all are using with the Criterion = Entropy\n",
    "#Acuuracy for the Default data \n",
    "***MaxDepth = None\n",
    "***Criterion = gini\n",
    "***Accuracy = 0.98****\n",
    "This is the best accuracy for the data\n",
    "\"\"\"\n",
    "\n",
    "pass"
   ]
  },
  {
   "cell_type": "markdown",
   "metadata": {},
   "source": [
    "# MissClassification"
   ]
  },
  {
   "cell_type": "code",
   "execution_count": null,
   "metadata": {},
   "outputs": [],
   "source": [
    "print(\"Miss classification of the data\", mis)"
   ]
  },
  {
   "cell_type": "markdown",
   "metadata": {},
   "source": [
    "# Heatmap"
   ]
  },
  {
   "cell_type": "code",
   "execution_count": null,
   "metadata": {},
   "outputs": [],
   "source": [
    "from sklearn.metrics import confusion_matrix\n",
    "sns.heatmap(confusion_matrix( y_test, y_pred,))"
   ]
  },
  {
   "cell_type": "code",
   "execution_count": null,
   "metadata": {},
   "outputs": [],
   "source": []
  },
  {
   "cell_type": "code",
   "execution_count": null,
   "metadata": {},
   "outputs": [],
   "source": []
  },
  {
   "cell_type": "code",
   "execution_count": null,
   "metadata": {},
   "outputs": [],
   "source": []
  },
  {
   "cell_type": "code",
   "execution_count": null,
   "metadata": {},
   "outputs": [],
   "source": []
  }
 ],
 "metadata": {
  "kernelspec": {
   "display_name": "Python 3",
   "language": "python",
   "name": "python3"
  },
  "language_info": {
   "codemirror_mode": {
    "name": "ipython",
    "version": 3
   },
   "file_extension": ".py",
   "mimetype": "text/x-python",
   "name": "python",
   "nbconvert_exporter": "python",
   "pygments_lexer": "ipython3",
   "version": "3.6.8"
  }
 },
 "nbformat": 4,
 "nbformat_minor": 2
}
